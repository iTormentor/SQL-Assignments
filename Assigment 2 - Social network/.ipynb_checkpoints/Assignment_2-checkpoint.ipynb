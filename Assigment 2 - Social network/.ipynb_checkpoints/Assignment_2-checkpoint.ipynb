{
 "cells": [
  {
   "cell_type": "markdown",
   "metadata": {},
   "source": [
    "Load the database Social-Network."
   ]
  },
  {
   "cell_type": "code",
   "execution_count": 2,
   "metadata": {},
   "outputs": [
    {
     "data": {
      "text/plain": [
       "'Connected: @Social-Network.db'"
      ]
     },
     "execution_count": 2,
     "metadata": {},
     "output_type": "execute_result"
    }
   ],
   "source": [
    "%load_ext sql\n",
    "%sql sqlite:///Social-Network.db"
   ]
  },
  {
   "cell_type": "markdown",
   "metadata": {},
   "source": [
    "**Assignment II Description**\n",
    "\n",
    "Students at your hometown high school have decided to organize their social network using databases. So far, they have\n",
    "collected information about sixteen students in four grades, 9-12. Here's the schema:\n",
    "\n",
    "Highschooler ( ID, name, grade )\n",
    "English: There is a high school student with unique _ID_ and a given _first name_ in a certain _grade_.\n",
    "\n",
    "Friend ( ID1, ID2 )\n",
    "English: The student with _ID1_ is friends with the student with _ID2_. Friendship is mutual, so if (123, 456) is in the Friend table, so is (456, 123).\n",
    "\n",
    "Likes ( ID1, ID2 )\n",
    "English: The student with _ID1_ likes the student with _ID2_. Liking someone is not necessarily mutual, so if (123, 456) is in the Likes table, there is no guarantee that (456, 123) is also present.\n",
    "\n",
    "Your queries will run over a small data set conforming to the schema. You can view the database in the pdf file.\n",
    "\n",
    "For your convenience, here is a graph showing the various connections between the students in our database. 9th graders\n",
    "are blue, 10th graders are green, 11th graders are yellow, and 12th graders are purple. Undirected black edges indicate\n",
    "friendships, and directed red edges indicate that one student likes another student.\n",
    "\n",
    "![title](image.png)\n",
    "\n",
    "**Instructions**\n",
    "\n",
    "Each problem asks you to write a query in SQL. You can run your code by clicking Run button on the top of the page.\n",
    "\n",
    "**Important Notes**\n",
    "\n",
    "1- Your queries are executed using SQLite, so you must conform to the SQL constructs supported by SQLite.\n",
    "\n",
    "2- Unless a specific result ordering is asked for, you can return the result rows in any order.\n",
    "\n",
    "3- You are to translate the English into a SQL query that computes the desired result over all possible databases. I will give you the correct output two weeks later as a reference. However, just to check the answer is not enough. This means for our small sample database, even if your answer is correct, it is possible that your query does not correctly reflect the problem at hand. (For example, if we ask for a complex condition that requires accessing all of the tables, but over our small data set in the end the condition is satisfied only by Star Wars, then the query \"select title from Movie where title = 'Star Wars'\" will get correct answer even though it doesn't reflect the actual question.) Circumventing the system in this fashion is not a good idea to help you learn SQL. On the other hand, an incorrect attempt at a general solution is unlikely to produce the right answer, so you shouldn't be led astray by just checking the answer.\n",
    "\n",
    "**Assignment Questions**\n",
    "\n",
    "This assignment includes three exercises **[Social-Network Query Exercises], [SQL Social-Network Query Exercises Extras]** and **[Social-Network Modification Exercises]**. Finish all questions listed below and test if your answers are correct with reference output. Then fill your answers in this template.\n",
    "\n",
    "**What to hand in:**\n",
    "1. Generate a HTML report from this notebook template with answers (File > Download as > HTML).\n",
    "2. This \"Assignment_2.ipynb\" file with answers."
   ]
  },
  {
   "cell_type": "markdown",
   "metadata": {},
   "source": [
    "Social-Network Query Exercises, Q1:\n",
    "\n",
    "Find the names of all students who are friends with someone named Gabriel."
   ]
  },
  {
   "cell_type": "code",
   "execution_count": 3,
   "metadata": {},
   "outputs": [
    {
     "name": "stdout",
     "output_type": "stream",
     "text": [
      " * sqlite:///Social-Network.db\n",
      "Done.\n"
     ]
    },
    {
     "data": {
      "text/html": [
       "<table>\n",
       "    <thead>\n",
       "        <tr>\n",
       "            <th>name</th>\n",
       "        </tr>\n",
       "    </thead>\n",
       "    <tbody>\n",
       "        <tr>\n",
       "            <td>Jordan</td>\n",
       "        </tr>\n",
       "        <tr>\n",
       "            <td>Cassandra</td>\n",
       "        </tr>\n",
       "        <tr>\n",
       "            <td>Andrew</td>\n",
       "        </tr>\n",
       "        <tr>\n",
       "            <td>Alexis</td>\n",
       "        </tr>\n",
       "        <tr>\n",
       "            <td>Jessica</td>\n",
       "        </tr>\n",
       "    </tbody>\n",
       "</table>"
      ],
      "text/plain": [
       "[('Jordan',), ('Cassandra',), ('Andrew',), ('Alexis',), ('Jessica',)]"
      ]
     },
     "execution_count": 3,
     "metadata": {},
     "output_type": "execute_result"
    }
   ],
   "source": [
    "%%sql\n",
    "\n",
    "SELECT Highschooler.name\n",
    "FROM Highschooler, Friend, (SELECT Highschooler.ID as ID\n",
    "\tFROM Highschooler\n",
    "\tWHERE name = 'Gabriel') as gabriel\n",
    "WHERE Highschooler.ID = Friend.ID1\n",
    "AND Friend.ID2 = gabriel.ID"
   ]
  },
  {
   "cell_type": "markdown",
   "metadata": {},
   "source": [
    "Social-Network Query Exercises, Q2:\n",
    "\n",
    "For every student who likes someone 2 or more grades younger than themselves, return that student's name and grade, and\n",
    "the name and grade of the student they like."
   ]
  },
  {
   "cell_type": "code",
   "execution_count": null,
   "metadata": {
    "collapsed": true
   },
   "outputs": [],
   "source": [
    "%%sql\n",
    "\n",
    "SELECT Highschooler.name, Highschooler.grade , student2.name, student2.grade\n",
    "FROM Highschooler, Likes, (SELECT Highschooler.ID as ID, Highschooler.grade as grade, Highschooler.name as name\n",
    "\tFROM Highschooler) as student2\n",
    "WHERE Highschooler.ID = Likes.ID1\n",
    "AND student2.ID = Likes.ID2\n",
    "AND (Highschooler.grade - student2.grade) >=2"
   ]
  },
  {
   "cell_type": "markdown",
   "metadata": {},
   "source": [
    "Social-Network Query Exercises, Q3:\n",
    "\n",
    "For every pair of students who both like each other, return the name and grade of both students. Include each pair only once,\n",
    "with the two names in alphabetical order."
   ]
  },
  {
   "cell_type": "code",
   "execution_count": 7,
   "metadata": {},
   "outputs": [
    {
     "name": "stdout",
     "output_type": "stream",
     "text": [
      " * sqlite:///Social-Network.db\n",
      "Done.\n"
     ]
    },
    {
     "data": {
      "text/html": [
       "<table>\n",
       "    <thead>\n",
       "        <tr>\n",
       "            <th>name</th>\n",
       "            <th>grade</th>\n",
       "            <th>name_1</th>\n",
       "            <th>grade_1</th>\n",
       "        </tr>\n",
       "    </thead>\n",
       "    <tbody>\n",
       "        <tr>\n",
       "            <td>Cassandra</td>\n",
       "            <td>9</td>\n",
       "            <td>Gabriel</td>\n",
       "            <td>9</td>\n",
       "        </tr>\n",
       "        <tr>\n",
       "            <td>Jessica</td>\n",
       "            <td>11</td>\n",
       "            <td>Kyle</td>\n",
       "            <td>12</td>\n",
       "        </tr>\n",
       "    </tbody>\n",
       "</table>"
      ],
      "text/plain": [
       "[('Cassandra', 9, 'Gabriel', 9), ('Jessica', 11, 'Kyle', 12)]"
      ]
     },
     "execution_count": 7,
     "metadata": {},
     "output_type": "execute_result"
    }
   ],
   "source": [
    "%%sql\n",
    "\n",
    "SELECT Highschooler.name, Highschooler.grade , student2.name, student2.grade\n",
    "FROM Highschooler, Likes, (SELECT Highschooler.ID as ID, Highschooler.grade as grade, Highschooler.name as name\n",
    "\tFROM Highschooler) as student2, (SELECT * FROM Likes) as Likes2\n",
    "WHERE Likes.ID1 = Likes2.ID2\n",
    "AND Likes.ID2 = Likes2.ID1\n",
    "AND Highschooler.ID = Likes.ID1\n",
    "AND student2.ID = Likes.ID2\n",
    "AND  student2.name > Highschooler.name\n",
    "ORDER BY Highschooler.name"
   ]
  },
  {
   "cell_type": "markdown",
   "metadata": {},
   "source": [
    "Social-Network Query Exercises, Q4:\n",
    "\n",
    "Find all students who do not appear in the Likes table (as a student who likes or is liked) and return their names and grades.\n",
    "Sort by grade, then by name within each grade."
   ]
  },
  {
   "cell_type": "code",
   "execution_count": 6,
   "metadata": {},
   "outputs": [
    {
     "name": "stdout",
     "output_type": "stream",
     "text": [
      " * sqlite:///Social-Network.db\n",
      "Done.\n"
     ]
    },
    {
     "data": {
      "text/html": [
       "<table>\n",
       "    <thead>\n",
       "        <tr>\n",
       "            <th>name</th>\n",
       "            <th>grade</th>\n",
       "        </tr>\n",
       "    </thead>\n",
       "    <tbody>\n",
       "        <tr>\n",
       "            <td>Jordan</td>\n",
       "            <td>9</td>\n",
       "        </tr>\n",
       "        <tr>\n",
       "            <td>Tiffany</td>\n",
       "            <td>9</td>\n",
       "        </tr>\n",
       "        <tr>\n",
       "            <td>Logan</td>\n",
       "            <td>12</td>\n",
       "        </tr>\n",
       "    </tbody>\n",
       "</table>"
      ],
      "text/plain": [
       "[('Jordan', 9), ('Tiffany', 9), ('Logan', 12)]"
      ]
     },
     "execution_count": 6,
     "metadata": {},
     "output_type": "execute_result"
    }
   ],
   "source": [
    "%%sql\n",
    "\n",
    "SELECT Highschooler.name, Highschooler.grade\n",
    "FROM Highschooler, Likes\n",
    "WHERE Highschooler.ID NOT IN (SELECT Likes.ID1 FROM Likes)\n",
    "AND Highschooler.ID NOT IN (SELECT Likes.ID2 FROM Likes)\n",
    "GROUP BY Highschooler.name\n",
    "ORDER BY Highschooler.grade, Highschooler.name"
   ]
  },
  {
   "cell_type": "markdown",
   "metadata": {},
   "source": [
    "Social-Network Query Exercises, Q5:\n",
    "\n",
    "For every situation where student A likes student B, but we have no information about whom B likes (that is, B does not\n",
    "appear as an ID1 in the Likes table), return A and B's names and grades."
   ]
  },
  {
   "cell_type": "code",
   "execution_count": 8,
   "metadata": {},
   "outputs": [
    {
     "name": "stdout",
     "output_type": "stream",
     "text": [
      " * sqlite:///Social-Network.db\n",
      "Done.\n"
     ]
    },
    {
     "data": {
      "text/html": [
       "<table>\n",
       "    <thead>\n",
       "        <tr>\n",
       "            <th>name</th>\n",
       "            <th>grade</th>\n",
       "            <th>name_1</th>\n",
       "            <th>grade_1</th>\n",
       "        </tr>\n",
       "    </thead>\n",
       "    <tbody>\n",
       "        <tr>\n",
       "            <td>John</td>\n",
       "            <td>12</td>\n",
       "            <td>Haley</td>\n",
       "            <td>10</td>\n",
       "        </tr>\n",
       "        <tr>\n",
       "            <td>Austin</td>\n",
       "            <td>11</td>\n",
       "            <td>Jordan</td>\n",
       "            <td>12</td>\n",
       "        </tr>\n",
       "        <tr>\n",
       "            <td>Alexis</td>\n",
       "            <td>11</td>\n",
       "            <td>Kris</td>\n",
       "            <td>10</td>\n",
       "        </tr>\n",
       "        <tr>\n",
       "            <td>Brittany</td>\n",
       "            <td>10</td>\n",
       "            <td>Kris</td>\n",
       "            <td>10</td>\n",
       "        </tr>\n",
       "    </tbody>\n",
       "</table>"
      ],
      "text/plain": [
       "[('John', 12, 'Haley', 10),\n",
       " ('Austin', 11, 'Jordan', 12),\n",
       " ('Alexis', 11, 'Kris', 10),\n",
       " ('Brittany', 10, 'Kris', 10)]"
      ]
     },
     "execution_count": 8,
     "metadata": {},
     "output_type": "execute_result"
    }
   ],
   "source": [
    "%%sql\n",
    "\n",
    "SELECT Highschooler.name,Highschooler.grade, student2.name, student2.grade\n",
    "FROM Highschooler, Likes, \n",
    "\t(SELECT Highschooler.ID as ID, Highschooler.name as name, Highschooler.grade as grade\n",
    "\tFROM Highschooler) as student2\n",
    "\n",
    "WHERE Highschooler.ID != student2.ID\n",
    "AND Highschooler.ID = Likes.ID1\n",
    "AND student2.ID = Likes.ID2\n",
    "AND student2.ID NOT IN (SELECT Likes.ID1 FROM Likes)\n",
    "ORDER BY student2.name, Highschooler.name"
   ]
  },
  {
   "cell_type": "markdown",
   "metadata": {},
   "source": [
    "Social-Network Query Exercises, Q6:\n",
    "\n",
    "Find names and grades of students who only have friends in the same grade. Return the result sorted by grade, then by name\n",
    "within each grade."
   ]
  },
  {
   "cell_type": "code",
   "execution_count": 10,
   "metadata": {},
   "outputs": [
    {
     "name": "stdout",
     "output_type": "stream",
     "text": [
      " * sqlite:///Social-Network.db\n",
      "Done.\n"
     ]
    },
    {
     "data": {
      "text/html": [
       "<table>\n",
       "    <thead>\n",
       "        <tr>\n",
       "            <th>name</th>\n",
       "            <th>grade</th>\n",
       "        </tr>\n",
       "    </thead>\n",
       "    <tbody>\n",
       "        <tr>\n",
       "            <td>Jordan</td>\n",
       "            <td>9</td>\n",
       "        </tr>\n",
       "        <tr>\n",
       "            <td>Brittany</td>\n",
       "            <td>10</td>\n",
       "        </tr>\n",
       "        <tr>\n",
       "            <td>Haley</td>\n",
       "            <td>10</td>\n",
       "        </tr>\n",
       "        <tr>\n",
       "            <td>Kris</td>\n",
       "            <td>10</td>\n",
       "        </tr>\n",
       "        <tr>\n",
       "            <td>Gabriel</td>\n",
       "            <td>11</td>\n",
       "        </tr>\n",
       "        <tr>\n",
       "            <td>John</td>\n",
       "            <td>12</td>\n",
       "        </tr>\n",
       "        <tr>\n",
       "            <td>Logan</td>\n",
       "            <td>12</td>\n",
       "        </tr>\n",
       "    </tbody>\n",
       "</table>"
      ],
      "text/plain": [
       "[('Jordan', 9),\n",
       " ('Brittany', 10),\n",
       " ('Haley', 10),\n",
       " ('Kris', 10),\n",
       " ('Gabriel', 11),\n",
       " ('John', 12),\n",
       " ('Logan', 12)]"
      ]
     },
     "execution_count": 10,
     "metadata": {},
     "output_type": "execute_result"
    }
   ],
   "source": [
    "%%sql\n",
    "\n",
    "WITH\n",
    "\n",
    "student1 as (SELECT Highschooler.name, Highschooler.grade, Highschooler.ID\n",
    "FROM Highschooler),\n",
    "student2 as(SELECT Highschooler.name, Highschooler.grade, Highschooler.ID\n",
    "FROM Highschooler),\n",
    " notsamegrade as (\n",
    " SELECT DISTINCT student1.ID\n",
    "FROM student1, student2, Friend\n",
    "WHERE student1.ID != student2.ID\n",
    "AND student1.ID = Friend.ID1\n",
    "AND student2.ID = Friend.ID2\n",
    "AND student1.grade != student2.grade\n",
    "ORDER BY student1.ID)\n",
    "\n",
    "SELECT student1.name, student1.grade\n",
    "FROM student1\n",
    "WHERE student1.ID NOT IN (SELECT ID FROM notsamegrade)\n",
    "ORDER BY student1.grade, student1.name\n",
    "\n"
   ]
  },
  {
   "cell_type": "markdown",
   "metadata": {},
   "source": [
    "Social-Network Query Exercises, Q7:\n",
    "\n",
    "For each student A who likes a student B where the two are not friends, find if they have a friend C in common (who can\n",
    "introduce them!). For all such trios, return the name and grade of A, B, and C."
   ]
  },
  {
   "cell_type": "code",
   "execution_count": 11,
   "metadata": {},
   "outputs": [
    {
     "name": "stdout",
     "output_type": "stream",
     "text": [
      " * sqlite:///Social-Network.db\n",
      "Done.\n"
     ]
    },
    {
     "data": {
      "text/html": [
       "<table>\n",
       "    <thead>\n",
       "        <tr>\n",
       "            <th>name</th>\n",
       "            <th>grade</th>\n",
       "            <th>name_1</th>\n",
       "            <th>grade_1</th>\n",
       "            <th>name_2</th>\n",
       "            <th>grade_2</th>\n",
       "        </tr>\n",
       "    </thead>\n",
       "    <tbody>\n",
       "        <tr>\n",
       "            <td>Andrew</td>\n",
       "            <td>10</td>\n",
       "            <td>Cassandra</td>\n",
       "            <td>9</td>\n",
       "            <td>Gabriel</td>\n",
       "            <td>9</td>\n",
       "        </tr>\n",
       "        <tr>\n",
       "            <td>Austin</td>\n",
       "            <td>11</td>\n",
       "            <td>Jordan</td>\n",
       "            <td>12</td>\n",
       "            <td>Andrew</td>\n",
       "            <td>10</td>\n",
       "        </tr>\n",
       "        <tr>\n",
       "            <td>Austin</td>\n",
       "            <td>11</td>\n",
       "            <td>Jordan</td>\n",
       "            <td>12</td>\n",
       "            <td>Kyle</td>\n",
       "            <td>12</td>\n",
       "        </tr>\n",
       "    </tbody>\n",
       "</table>"
      ],
      "text/plain": [
       "[('Andrew', 10, 'Cassandra', 9, 'Gabriel', 9),\n",
       " ('Austin', 11, 'Jordan', 12, 'Andrew', 10),\n",
       " ('Austin', 11, 'Jordan', 12, 'Kyle', 12)]"
      ]
     },
     "execution_count": 11,
     "metadata": {},
     "output_type": "execute_result"
    }
   ],
   "source": [
    "%%sql\n",
    "\n",
    "WITH\n",
    "\n",
    "student1 as (SELECT Highschooler.name as name, Highschooler.grade as grade, Highschooler.ID as ID\n",
    "FROM Highschooler),\n",
    "student2 as(SELECT Highschooler.name as name, Highschooler.grade as grade, Highschooler.ID as ID\n",
    "FROM Highschooler),\n",
    "commonfriend as(SELECT Highschooler.name as name, Highschooler.grade as grade, Highschooler.ID as ID\n",
    "FROM Highschooler),\n",
    "friendlist2 as (SELECT * FROM Friend)\n",
    "\n",
    "SELECT student1.name, student1.grade,  student2.name, student2.grade, commonfriend.name, commonfriend.grade\n",
    "FROM student1, student2, commonfriend, Friend, friendlist2, Likes\n",
    "WHERE student1.ID = Likes.ID1\n",
    "AND student2.ID = Likes.ID2\n",
    "\n",
    "AND student1.ID = Friend.ID1\n",
    "AND commonfriend.ID = Friend.ID2\n",
    "\n",
    "AND student2.ID = friendlist2.ID1\n",
    "AND commonfriend.ID = friendlist2.ID2\n",
    "\n",
    "AND (student1.ID, student2.ID) NOT IN Friend"
   ]
  },
  {
   "cell_type": "markdown",
   "metadata": {},
   "source": [
    "Social-Network Query Exercises, Q8:\n",
    "\n",
    "Find the difference between the number of students in the school and the number of different first names."
   ]
  },
  {
   "cell_type": "code",
   "execution_count": 12,
   "metadata": {},
   "outputs": [
    {
     "name": "stdout",
     "output_type": "stream",
     "text": [
      " * sqlite:///Social-Network.db\n",
      "Done.\n"
     ]
    },
    {
     "data": {
      "text/html": [
       "<table>\n",
       "    <thead>\n",
       "        <tr>\n",
       "            <th>difference</th>\n",
       "        </tr>\n",
       "    </thead>\n",
       "    <tbody>\n",
       "        <tr>\n",
       "            <td>2</td>\n",
       "        </tr>\n",
       "    </tbody>\n",
       "</table>"
      ],
      "text/plain": [
       "[(2,)]"
      ]
     },
     "execution_count": 12,
     "metadata": {},
     "output_type": "execute_result"
    }
   ],
   "source": [
    "%%sql\n",
    "\n",
    "WITH \n",
    "students as (SELECT count(*) as counter\n",
    "FROM Highschooler),\n",
    "names as (SELECT count(DISTINCT name) as counter\n",
    "FROM Highschooler)\n",
    "\n",
    "SELECT (students.counter - names.counter) as difference\n",
    "FROM students, names"
   ]
  },
  {
   "cell_type": "markdown",
   "metadata": {},
   "source": [
    "Social-Network Query Exercises, Q9:\n",
    "\n",
    "Find the name and grade of all students who are liked by more than one other student."
   ]
  },
  {
   "cell_type": "code",
   "execution_count": 13,
   "metadata": {},
   "outputs": [
    {
     "name": "stdout",
     "output_type": "stream",
     "text": [
      " * sqlite:///Social-Network.db\n",
      "Done.\n"
     ]
    },
    {
     "data": {
      "text/html": [
       "<table>\n",
       "    <thead>\n",
       "        <tr>\n",
       "            <th>name</th>\n",
       "            <th>grade</th>\n",
       "        </tr>\n",
       "    </thead>\n",
       "    <tbody>\n",
       "        <tr>\n",
       "            <td>Cassandra</td>\n",
       "            <td>9</td>\n",
       "        </tr>\n",
       "        <tr>\n",
       "            <td>Kris</td>\n",
       "            <td>10</td>\n",
       "        </tr>\n",
       "    </tbody>\n",
       "</table>"
      ],
      "text/plain": [
       "[('Cassandra', 9), ('Kris', 10)]"
      ]
     },
     "execution_count": 13,
     "metadata": {},
     "output_type": "execute_result"
    }
   ],
   "source": [
    "%%sql\n",
    "\n",
    "WITH \n",
    "liked as (SELECT Likes.ID2 as ID, count(Likes.ID2) as counter\n",
    "FROM Likes\n",
    "GROUP BY Likes.ID2)\n",
    "\n",
    "\n",
    "SELECT Highschooler.name, Highschooler.grade\n",
    "FROM Highschooler, liked\n",
    "WHERE Highschooler.ID = liked.ID\n",
    "AND liked.counter >= 2"
   ]
  },
  {
   "cell_type": "markdown",
   "metadata": {},
   "source": [
    "Social-Network Query Exercises Extras, Q1:\n",
    "\n",
    "For every situation where student A likes student B, but student B likes a different student C, return the names and grades of\n",
    "A, B, and C."
   ]
  },
  {
   "cell_type": "code",
   "execution_count": 14,
   "metadata": {},
   "outputs": [
    {
     "name": "stdout",
     "output_type": "stream",
     "text": [
      " * sqlite:///Social-Network.db\n",
      "Done.\n"
     ]
    },
    {
     "data": {
      "text/html": [
       "<table>\n",
       "    <thead>\n",
       "        <tr>\n",
       "            <th>name</th>\n",
       "            <th>grade</th>\n",
       "            <th>name_1</th>\n",
       "            <th>grade_1</th>\n",
       "            <th>name_2</th>\n",
       "            <th>grade_2</th>\n",
       "        </tr>\n",
       "    </thead>\n",
       "    <tbody>\n",
       "        <tr>\n",
       "            <td>Andrew</td>\n",
       "            <td>10</td>\n",
       "            <td>Cassandra</td>\n",
       "            <td>9</td>\n",
       "            <td>Gabriel</td>\n",
       "            <td>9</td>\n",
       "        </tr>\n",
       "        <tr>\n",
       "            <td>Gabriel</td>\n",
       "            <td>11</td>\n",
       "            <td>Alexis</td>\n",
       "            <td>11</td>\n",
       "            <td>Kris</td>\n",
       "            <td>10</td>\n",
       "        </tr>\n",
       "    </tbody>\n",
       "</table>"
      ],
      "text/plain": [
       "[('Andrew', 10, 'Cassandra', 9, 'Gabriel', 9),\n",
       " ('Gabriel', 11, 'Alexis', 11, 'Kris', 10)]"
      ]
     },
     "execution_count": 14,
     "metadata": {},
     "output_type": "execute_result"
    }
   ],
   "source": [
    "%%sql\n",
    "\n",
    "WITH \n",
    "student1 as (SELECT * FROM Highschooler),\n",
    "student2 as (SELECT * FROM Highschooler),\n",
    "student3 as (SELECT * FROM Highschooler),\n",
    "likes1 as (SELECT * FROM Likes),\n",
    "likes2 as (SELECT * FROM Likes)\n",
    "\n",
    "\n",
    "SELECT student1.name, student1.grade, student2.name, student2.grade, student3.name, student3.grade\n",
    "FROM student1, student2, student3, likes1, likes2\n",
    "WHERE student1.ID = likes1.ID1 \n",
    "AND student2.ID = likes1.ID2\n",
    "\n",
    "AND student2.ID = likes2.ID1\n",
    "AND student3.ID = likes2.ID2\n",
    "\n",
    "AND student1.ID != student2.ID\n",
    "AND student2.ID != student3.ID\n",
    "AND student1.ID != student3.ID"
   ]
  },
  {
   "cell_type": "markdown",
   "metadata": {},
   "source": [
    "Social-Network Query Exercises Extras, Q2:\n",
    "\n",
    "Find those students for whom all of their friends are in different grades from themselves. Return the students' names and\n",
    "grades."
   ]
  },
  {
   "cell_type": "code",
   "execution_count": 15,
   "metadata": {},
   "outputs": [
    {
     "name": "stdout",
     "output_type": "stream",
     "text": [
      " * sqlite:///Social-Network.db\n",
      "Done.\n"
     ]
    },
    {
     "data": {
      "text/html": [
       "<table>\n",
       "    <thead>\n",
       "        <tr>\n",
       "            <th>name</th>\n",
       "            <th>grade</th>\n",
       "        </tr>\n",
       "    </thead>\n",
       "    <tbody>\n",
       "        <tr>\n",
       "            <td>Austin</td>\n",
       "            <td>11</td>\n",
       "        </tr>\n",
       "    </tbody>\n",
       "</table>"
      ],
      "text/plain": [
       "[('Austin', 11)]"
      ]
     },
     "execution_count": 15,
     "metadata": {},
     "output_type": "execute_result"
    }
   ],
   "source": [
    "%%sql\n",
    "\n",
    "WITH \n",
    "student1 as (SELECT * FROM Highschooler),\n",
    "student2 as (SELECT * FROM Highschooler),\n",
    "samegrade as (SELECT DISTINCT student1.ID as ID\n",
    "FROM student1, student2, Friend\n",
    "WHERE student1.ID = Friend.ID1\n",
    "AND student2.ID = Friend.ID2\n",
    "AND student1.ID != student2.ID\n",
    "AND student1.grade = student2.grade)\n",
    "\n",
    "SELECT Highschooler.name, Highschooler.grade\n",
    "FROM Highschooler\n",
    "WHERE Highschooler.ID NOT IN (SELECT ID FROM samegrade)"
   ]
  },
  {
   "cell_type": "markdown",
   "metadata": {},
   "source": [
    "Social-Network Query Exercises Extras, Q3:\n",
    "\n",
    "What is the average number of friends per student? (Your result should be just one number.)"
   ]
  },
  {
   "cell_type": "code",
   "execution_count": 16,
   "metadata": {},
   "outputs": [
    {
     "name": "stdout",
     "output_type": "stream",
     "text": [
      " * sqlite:///Social-Network.db\n",
      "Done.\n"
     ]
    },
    {
     "data": {
      "text/html": [
       "<table>\n",
       "    <thead>\n",
       "        <tr>\n",
       "            <th>average</th>\n",
       "        </tr>\n",
       "    </thead>\n",
       "    <tbody>\n",
       "        <tr>\n",
       "            <td>2.5</td>\n",
       "        </tr>\n",
       "    </tbody>\n",
       "</table>"
      ],
      "text/plain": [
       "[(2.5,)]"
      ]
     },
     "execution_count": 16,
     "metadata": {},
     "output_type": "execute_result"
    }
   ],
   "source": [
    "%%sql\n",
    "\n",
    "WITH \n",
    "students as (SELECT count(*) as counter FROM Highschooler),\n",
    "friends as (SELECT count(*) as counter FROM Friend)\n",
    "\n",
    "SELECT friends.counter * 1.0 / students.counter as average\n",
    "FROM friends, students"
   ]
  },
  {
   "cell_type": "markdown",
   "metadata": {},
   "source": [
    "Social-Network Query Exercises Extras, Q4:\n",
    "\n",
    "Find the number of students who are either friends with Cassandra or are friends of friends of Cassandra. Do not count\n",
    "Cassandra, even though technically she is a friend of a friend."
   ]
  },
  {
   "cell_type": "code",
   "execution_count": 18,
   "metadata": {},
   "outputs": [
    {
     "name": "stdout",
     "output_type": "stream",
     "text": [
      " * sqlite:///Social-Network.db\n",
      "Done.\n"
     ]
    },
    {
     "data": {
      "text/html": [
       "<table>\n",
       "    <thead>\n",
       "        <tr>\n",
       "            <th>count(DISTINCT Friend.ID2)</th>\n",
       "        </tr>\n",
       "    </thead>\n",
       "    <tbody>\n",
       "        <tr>\n",
       "            <td>7</td>\n",
       "        </tr>\n",
       "    </tbody>\n",
       "</table>"
      ],
      "text/plain": [
       "[(7,)]"
      ]
     },
     "execution_count": 18,
     "metadata": {},
     "output_type": "execute_result"
    }
   ],
   "source": [
    "%%sql\n",
    "\n",
    "WITH \n",
    "cassandra as (SELECT Highschooler.ID as ID FROM Highschooler WHERE Highschooler.name = 'Cassandra'),\n",
    "cass_friend as (\n",
    "SELECT Highschooler.ID\n",
    "FROM Highschooler, cassandra, Friend\n",
    "WHERE Highschooler.ID = Friend.ID1\n",
    "AND cassandra.ID = Friend.ID2)\n",
    "\n",
    "SELECT count(DISTINCT Friend.ID2)\n",
    "FROM Friend, cassandra, cass_friend\n",
    "WHERE (Friend.ID1 = cassandra.ID OR Friend.ID1 = cass_friend.ID)\n",
    "AND Friend.ID2 != cassandra.ID\n"
   ]
  },
  {
   "cell_type": "markdown",
   "metadata": {},
   "source": [
    "Social-Network Query Exercises Extras, Q5:\n",
    "\n",
    "Find the name and grade of the student(s) with the greatest number of friends."
   ]
  },
  {
   "cell_type": "code",
   "execution_count": 19,
   "metadata": {},
   "outputs": [
    {
     "name": "stdout",
     "output_type": "stream",
     "text": [
      " * sqlite:///Social-Network.db\n",
      "Done.\n"
     ]
    },
    {
     "data": {
      "text/html": [
       "<table>\n",
       "    <thead>\n",
       "        <tr>\n",
       "            <th>name</th>\n",
       "            <th>grade</th>\n",
       "        </tr>\n",
       "    </thead>\n",
       "    <tbody>\n",
       "        <tr>\n",
       "            <td>Alexis</td>\n",
       "            <td>11</td>\n",
       "        </tr>\n",
       "        <tr>\n",
       "            <td>Andrew</td>\n",
       "            <td>10</td>\n",
       "        </tr>\n",
       "    </tbody>\n",
       "</table>"
      ],
      "text/plain": [
       "[('Alexis', 11), ('Andrew', 10)]"
      ]
     },
     "execution_count": 19,
     "metadata": {},
     "output_type": "execute_result"
    }
   ],
   "source": [
    "%%sql\n",
    "\n",
    "WITH\n",
    "friendlist as (SELECT Friend.ID1 as ID, count(*)as friends\n",
    "FROM Friend\n",
    "GROUP BY Friend.ID1),\n",
    "\n",
    "maximum as (SELECT MAX(friends) as top\n",
    "FROM friendlist)\n",
    "\n",
    "SELECT Highschooler.name, Highschooler.grade\n",
    "FROM Highschooler, friendlist, maximum\n",
    "WHERE Highschooler.ID = friendlist.ID\n",
    "AND friendlist.friends = maximum.top\n",
    "ORDER BY name"
   ]
  },
  {
   "cell_type": "markdown",
   "metadata": {
    "collapsed": true
   },
   "source": [
    "Social-Network Modification Exercises, Q1:\n",
    "\n",
    "It's time for the seniors to graduate. Remove all 12th graders from Highschooler."
   ]
  },
  {
   "cell_type": "code",
   "execution_count": 22,
   "metadata": {},
   "outputs": [
    {
     "name": "stdout",
     "output_type": "stream",
     "text": [
      " * sqlite:///Social-Network.db\n",
      "(sqlite3.OperationalError) near \"SELECT\": syntax error\n",
      "[SQL: DELETE FROM Highschooler\n",
      "WHERE Highschooler.grade = 12\n",
      "\n",
      "SELECT *\n",
      "FROM Highschooler]\n",
      "(Background on this error at: http://sqlalche.me/e/14/e3q8)\n"
     ]
    }
   ],
   "source": [
    "%%sql\n",
    "\n",
    "DELETE FROM Highschooler\n",
    "WHERE Highschooler.grade = 12"
   ]
  },
  {
   "cell_type": "markdown",
   "metadata": {
    "collapsed": true
   },
   "source": [
    "Social-Network Modification Exercises, Q2:\n",
    "\n",
    "If two students A and B are friends, and A likes B but not vice-versa, remove the Likes tuple."
   ]
  },
  {
   "cell_type": "code",
   "execution_count": null,
   "metadata": {
    "collapsed": true
   },
   "outputs": [],
   "source": []
  },
  {
   "cell_type": "markdown",
   "metadata": {
    "collapsed": true
   },
   "source": [
    "Social-Network Modification Exercises, Q3:\n",
    "\n",
    "For all cases where A is friends with B, and B is friends with C, add a new friendship for the pair A and C. Do not add duplicate friendships, friendships that already exist, or friendships with oneself. _(This one is a bit challenging; congratulations if you get it right.)_"
   ]
  },
  {
   "cell_type": "code",
   "execution_count": null,
   "metadata": {
    "collapsed": true
   },
   "outputs": [],
   "source": []
  }
 ],
 "metadata": {
  "kernelspec": {
   "display_name": "Python 3",
   "language": "python",
   "name": "python3"
  },
  "language_info": {
   "codemirror_mode": {
    "name": "ipython",
    "version": 3
   },
   "file_extension": ".py",
   "mimetype": "text/x-python",
   "name": "python",
   "nbconvert_exporter": "python",
   "pygments_lexer": "ipython3",
   "version": "3.8.8"
  }
 },
 "nbformat": 4,
 "nbformat_minor": 2
}
